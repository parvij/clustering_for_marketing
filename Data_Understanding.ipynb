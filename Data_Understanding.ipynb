{
 "cells": [
  {
   "cell_type": "markdown",
   "metadata": {},
   "source": [
    "\n",
    "\n",
    "# initializing"
   ]
  },
  {
   "cell_type": "code",
   "execution_count": null,
   "metadata": {},
   "outputs": [],
   "source": [
    "import pandas as pd\n",
    "import numpy as np\n",
    "import matplotlib.pyplot as plt\n",
    "import warnings\n",
    "from datetime import datetime\n",
    "import seaborn as sns\n",
    "\n",
    "warnings.filterwarnings(\"ignore\")\n",
    "\n",
    "use_clean_data = True"
   ]
  },
  {
   "cell_type": "markdown",
   "metadata": {},
   "source": [
    "# reading data"
   ]
  },
  {
   "cell_type": "code",
   "execution_count": null,
   "metadata": {},
   "outputs": [],
   "source": [
    "if not use_clean_data :\n",
    "    data = pd.read_csv('statistics.csv')\n",
    "    col = pd.read_csv('sample.csv')\n",
    "    data.columns=col.columns"
   ]
  },
  {
   "cell_type": "markdown",
   "metadata": {},
   "source": [
    "# cleaning data"
   ]
  },
  {
   "cell_type": "markdown",
   "metadata": {},
   "source": [
    "## reduce by business "
   ]
  },
  {
   "cell_type": "code",
   "execution_count": null,
   "metadata": {},
   "outputs": [],
   "source": [
    "if not use_clean_data :\n",
    "    data['created_at']=data['created_at'].apply(lambda x:datetime.strptime(x[:7],'%Y-%m'))\n",
    "\n",
    "    print('count of user created before 2017-06:')\n",
    "    print(len(data[data['created_at'] < datetime.strptime('2017-06-01','%Y-%m-%d')]))\n",
    "    data = data[data['created_at'] >= datetime.strptime('2017-06-01','%Y-%m-%d')]\n",
    "    \n",
    "    data.drop(columns=['followings_num',\n",
    "                        'followers_num',\n",
    "                        'needs_update',\n",
    "                        'last_reward_app_version',\n",
    "                        'last_wrong_reviews_count',\n",
    "                        'last_correct_reviews_count',\n",
    "                        'times_logged_in',\n",
    "                        'invitation_count',\n",
    "                        'min_weekly_rank',\n",
    "                        'min_total_rank',\n",
    "                        'max_weekly_score',\n",
    "                        'max_total_score',\n",
    "                        'max_coins',\n",
    "                        'updated_at'],\n",
    "              inplace=True,\n",
    "              axis=1)"
   ]
  },
  {
   "cell_type": "markdown",
   "metadata": {},
   "source": [
    "## checking noise"
   ]
  },
  {
   "cell_type": "code",
   "execution_count": null,
   "metadata": {
    "scrolled": true
   },
   "outputs": [],
   "source": [
    "data[data.games_played!=data.won_count+data.tie_count+data.lost_count]"
   ]
  },
  {
   "cell_type": "code",
   "execution_count": null,
   "metadata": {},
   "outputs": [],
   "source": [
    "data.drop(data[data.games_played!=data.won_count+data.tie_count+data.lost_count].index,inplace=True)"
   ]
  },
  {
   "cell_type": "code",
   "execution_count": null,
   "metadata": {},
   "outputs": [],
   "source": [
    "print(data.won_count.sum()/\n",
    "      data.lost_count.sum())"
   ]
  },
  {
   "cell_type": "code",
   "execution_count": null,
   "metadata": {},
   "outputs": [],
   "source": [
    "print(data.won_count_with_expiration.sum()/\n",
    "      data.lost_count_with_expiration.sum())"
   ]
  },
  {
   "cell_type": "code",
   "execution_count": null,
   "metadata": {},
   "outputs": [],
   "source": [
    "print(data.won_count_with_give_up.sum()/\n",
    "      data.lost_count_with_give_up.sum())"
   ]
  },
  {
   "cell_type": "code",
   "execution_count": null,
   "metadata": {},
   "outputs": [],
   "source": [
    "(data[data.purchased_amount>0].purchased_amount/data[data.purchased_amount>0].purchased_coins).hist()"
   ]
  },
  {
   "cell_type": "code",
   "execution_count": null,
   "metadata": {},
   "outputs": [],
   "source": [
    "(data[data.times_spent_hint_freeze_time>0].coins_spent_on_hint_freeze_time\n",
    "/data[data.times_spent_hint_freeze_time>0].times_spent_hint_freeze_time).hist(log=True)"
   ]
  },
  {
   "cell_type": "code",
   "execution_count": null,
   "metadata": {},
   "outputs": [],
   "source": [
    "(data[data.times_spent_hint_delete_wrong>0].coins_spent_on_hint_delete_wrong\n",
    "/data[data.times_spent_hint_delete_wrong>0].times_spent_hint_delete_wrong).hist(log=True)"
   ]
  },
  {
   "cell_type": "code",
   "execution_count": null,
   "metadata": {},
   "outputs": [],
   "source": [
    "(data[data.times_spent_hint_answer_again>0].coins_spent_on_hint_answer_again\n",
    "/data[data.times_spent_hint_answer_again>0].times_spent_hint_answer_again).hist(log=True)"
   ]
  },
  {
   "cell_type": "code",
   "execution_count": null,
   "metadata": {},
   "outputs": [],
   "source": [
    "(data[data.times_spent_unlimited_games>0].coins_spent_on_unlimited_games\n",
    "/data[data.times_spent_unlimited_games>0].times_spent_unlimited_games).hist(log=True)"
   ]
  },
  {
   "cell_type": "code",
   "execution_count": null,
   "metadata": {},
   "outputs": [],
   "source": [
    "(data[data.times_changing_avatars>0].coins_spent_on_avatars\n",
    "/data[data.times_changing_avatars>0].times_changing_avatars).hist(log=True)"
   ]
  },
  {
   "cell_type": "code",
   "execution_count": null,
   "metadata": {},
   "outputs": [],
   "source": [
    "(data[data.times_spent_hint_answer_percentage>0].coins_spent_on_hint_answer_percentage\n",
    "/data[data.times_spent_hint_answer_percentage>0].times_spent_hint_answer_percentage).hist(log=True)"
   ]
  },
  {
   "cell_type": "code",
   "execution_count": null,
   "metadata": {},
   "outputs": [],
   "source": [
    "len(data[data.tournament_cups>data.tournaments_played])"
   ]
  },
  {
   "cell_type": "code",
   "execution_count": null,
   "metadata": {},
   "outputs": [],
   "source": [
    "(data.purchased_coins-(data.coins_spent_on_avatars\n",
    "                     +data.coins_spent_on_booster_package\n",
    "                     +data.coins_spent_on_hint_answer_again\n",
    "                     +data.coins_spent_on_hint_answer_percentage\n",
    "                     +data.coins_spent_on_hint_delete_wrong\n",
    "                     +data.coins_spent_on_hint_freeze_time\n",
    "                     +data.coins_spent_on_unlimited_games)).describe()"
   ]
  },
  {
   "cell_type": "markdown",
   "metadata": {},
   "source": [
    "## finding out and removing columns with unique value"
   ]
  },
  {
   "cell_type": "code",
   "execution_count": null,
   "metadata": {},
   "outputs": [],
   "source": [
    "for c in ['accepted_questions_count','weekly_cups']:\n",
    "    data[c].hist(log=True)\n",
    "    plt.show()"
   ]
  },
  {
   "cell_type": "code",
   "execution_count": null,
   "metadata": {},
   "outputs": [],
   "source": [
    "if not use_clean_data :\n",
    "    unique_list=[]\n",
    "    print('columns with unique value:')\n",
    "    for i in range(len(data.columns)):\n",
    "        if len(data.iloc[:,i].unique())==1:\n",
    "            print(data.columns[i])\n",
    "            unique_list+=[data.columns[i]]\n",
    "    #my finding:\n",
    "    unique_list+=['accepted_questions_count','weekly_cups']\n",
    "    data.drop(columns=unique_list,inplace=True,axis=1)"
   ]
  },
  {
   "cell_type": "markdown",
   "metadata": {},
   "source": [
    "## delete unactive player"
   ]
  },
  {
   "cell_type": "code",
   "execution_count": null,
   "metadata": {},
   "outputs": [],
   "source": [
    "data = data[data.games_played>5]"
   ]
  },
  {
   "cell_type": "code",
   "execution_count": null,
   "metadata": {},
   "outputs": [],
   "source": [
    "# player wihtout won or games is not active at all\n",
    "'''\n",
    "if not use_clean_data :\n",
    "    for col in ['games_played','won_count']:\n",
    "        fig,ax = plt.subplots()\n",
    "        ax= data[col].hist()\n",
    "        ax.set_title(col)\n",
    "        side_text = plt.figtext(1,0.1,  str(data[col].describe()) \n",
    "                                        + '\\n \\n' \n",
    "                                        + str(data[col].value_counts().head())\n",
    "                                , bbox=dict(facecolor='white'))\n",
    "        fig.subplots_adjust(top=0.8)\n",
    "        plt.show()\n",
    "\n",
    "    # cleaning data\n",
    "    data=data[data.games_played!=0]\n",
    "    data=data[data.won_count!=0]\n",
    "'''"
   ]
  },
  {
   "cell_type": "markdown",
   "metadata": {},
   "source": [
    "## removing upper outlier with threshold : 5 / 10,000"
   ]
  },
  {
   "cell_type": "code",
   "execution_count": null,
   "metadata": {},
   "outputs": [],
   "source": [
    "if not use_clean_data:\n",
    "    for c in data.columns:\n",
    "        if c not in ['created_at','updated_at']: \n",
    "            data = data[data[c]<data[c].quantile(.9995)] "
   ]
  },
  {
   "cell_type": "markdown",
   "metadata": {},
   "source": [
    "## cleaning negetive number"
   ]
  },
  {
   "cell_type": "code",
   "execution_count": null,
   "metadata": {},
   "outputs": [],
   "source": [
    "if not use_clean_data:\n",
    "    for c in data.columns:\n",
    "        if c not in ['created_at','updated_at']:\n",
    "            count_of_negetive = len(data[data[c]<0])\n",
    "            if count_of_negetive>0:\n",
    "                print(c,count_of_negetive)\n",
    "                data.loc[data[c]<0,c]=0"
   ]
  },
  {
   "cell_type": "markdown",
   "metadata": {},
   "source": [
    "# saving or loading data without noise"
   ]
  },
  {
   "cell_type": "code",
   "execution_count": null,
   "metadata": {},
   "outputs": [],
   "source": [
    "if not use_clean_data :\n",
    "    data.to_csv('statistics2.csv',index=False)\n",
    "else:\n",
    "    data= pd.read_csv('statistics2.csv')"
   ]
  },
  {
   "cell_type": "markdown",
   "metadata": {},
   "source": [
    "# Defining goal"
   ]
  },
  {
   "cell_type": "code",
   "execution_count": null,
   "metadata": {},
   "outputs": [],
   "source": [
    "# goal\n",
    "data['has_bought'] = data.purchased_times>0\n",
    "goal='has_bought'\n",
    "data.has_bought.value_counts()"
   ]
  },
  {
   "cell_type": "markdown",
   "metadata": {},
   "source": [
    "# Analysing data"
   ]
  },
  {
   "cell_type": "code",
   "execution_count": null,
   "metadata": {},
   "outputs": [],
   "source": [
    "def plot_probability_per_numberic(data,col,goal,bin_size):\n",
    "    df =  data.groupby(col).agg(['mean','count'])[goal]\n",
    "    df.reset_index(inplace=True)\n",
    "    j=bin_size\n",
    "    l=[]\n",
    "    left_bin=df.iloc[0][col]\n",
    "    for i in range(len(df)):\n",
    "        j-=df.iloc[i]['count']\n",
    "        if j<0:\n",
    "            left_bin=df.iloc[i][col]\n",
    "            j=bin_size\n",
    "        #df.iloc[i][col+'_bins']=left_bin\n",
    "        l+=[left_bin]\n",
    "    \n",
    "    df[col+'_bins']=l\n",
    "    df2 = (df.groupby(col+'_bins').agg('mean')['mean']).to_frame().reset_index()\n",
    "    df2.reset_index(inplace=True)\n",
    "    df2.rename(columns={'mean':'probability_of_'+goal},inplace=True)\n",
    "    return plt.plot(df2[col+'_bins'].tolist(),df2['probability_of_'+goal].tolist())\n",
    "#plot_probability_per_numberic(data,col,'has_bought',1000)"
   ]
  },
  {
   "cell_type": "code",
   "execution_count": null,
   "metadata": {},
   "outputs": [],
   "source": [
    "def describe_field(data,col,goal,ignore = ['created_at','updated_at']):\n",
    "    sample_fraction = .1\n",
    "    bins_num = 30\n",
    "    bins_size = 1000\n",
    "    \n",
    "    \n",
    "    fig,axes = plt.subplots(1,3,figsize=(18,6))\n",
    "\n",
    "    if col in ignore:        \n",
    "        axes[0]= data[col].hist(bins=bins_num,ax=axes[0])\n",
    "\n",
    "        \n",
    "    else:\n",
    "        axes[0].hist([data[(data[goal]==1)][col],\n",
    "                  data[data[goal]!=1][col].sample(frac=sample_fraction, random_state=1)],\n",
    "                 stacked=True,\n",
    "                 bins=30,\n",
    "                 label=['reached goal','losed goal']\n",
    "                )\n",
    "        \n",
    "        sns.distplot(data[data[goal]][col],hist=True,kde=True,label='reached goal',ax=axes[1])\n",
    "        sns.distplot(data[~data[goal]][col],hist=True,kde=True,label='losed goal', ax=axes[1])\n",
    "        \n",
    "        axes[2] = plot_probability_per_numberic(data,col,goal,bins_size)\n",
    "\n",
    "        \n",
    "    axes[1].set_title(col)\n",
    "    side_text = plt.figtext(1,0.1,  str(data[col].describe()) \n",
    "                                    + '\\n \\n' \n",
    "                                    + str(data[col].value_counts().head())\n",
    "                                    + '\\n\\n '+goal+':\\n'\n",
    "                                    + str(data[data[goal]][col].value_counts().head())\n",
    "                            , bbox=dict(facecolor='white'))\n",
    "    fig.subplots_adjust(top=0.8)\n",
    "    plt.show()"
   ]
  },
  {
   "cell_type": "code",
   "execution_count": null,
   "metadata": {},
   "outputs": [],
   "source": [
    "# "
   ]
  },
  {
   "cell_type": "code",
   "execution_count": null,
   "metadata": {},
   "outputs": [],
   "source": [
    "for i in range(1,len(data.columns)-1):\n",
    "    print(i)\n",
    "    col=data.columns[i]\n",
    "    describe_field(data,col,goal)"
   ]
  },
  {
   "cell_type": "code",
   "execution_count": null,
   "metadata": {},
   "outputs": [],
   "source": [
    "# "
   ]
  },
  {
   "cell_type": "code",
   "execution_count": null,
   "metadata": {},
   "outputs": [],
   "source": [
    "per_games_played_list=['won_count', 'tie_count', 'lost_count',\n",
    "       'perfect_games', \n",
    "        'times_spent_hint_freeze_time','times_spent_hint_delete_wrong','times_spent_hint_answer_again',\n",
    "                       'times_spent_unlimited_games','times_changing_avatars', 'times_spent_hint_answer_percentage',\n",
    "                       'times_spent_booster_package',\n",
    "        'won_count_with_expiration', 'won_count_with_give_up',\n",
    "        'lost_count_with_expiration', 'lost_count_with_give_up',\n",
    "        'times_viewing_adv_extra_game',\n",
    "        'total_question_rating_count', 'question_up_rating_count', 'question_down_rating_count', \n",
    "                       'question_none_rating_count',\n",
    "        'question_report_count', \n",
    "        'tournament_cups', 'tournaments_played',\n",
    "        'number_of_invitation',\n",
    "        'correct_answer_count']\n",
    "\n",
    "data_per_game=data[per_games_played_list+['has_bought','games_played']]\n",
    "\n",
    "\n",
    "for c in per_games_played_list:\n",
    "    data_per_game[c]=data_per_game[c]/data_per_game.games_played\n",
    "    describe_field(data_per_game,c,goal)\n"
   ]
  },
  {
   "cell_type": "markdown",
   "metadata": {},
   "source": [
    "# spend coins"
   ]
  },
  {
   "cell_type": "code",
   "execution_count": null,
   "metadata": {},
   "outputs": [],
   "source": [
    "data['times_spend_coins']= data.times_spent_hint_answer_again+data.times_spent_hint_answer_percentage+data.times_spent_hint_delete_wrong+data.times_spent_hint_freeze_time+data.times_spent_unlimited_games+data.times_spent_booster_package"
   ]
  },
  {
   "cell_type": "code",
   "execution_count": null,
   "metadata": {},
   "outputs": [],
   "source": [
    "for i in range(1,len(data.columns)-1):\n",
    "    print(i)\n",
    "    col=data.columns[i]\n",
    "    describe_field(data,col,goal='times_spend_coins')"
   ]
  },
  {
   "cell_type": "code",
   "execution_count": null,
   "metadata": {
    "scrolled": true
   },
   "outputs": [],
   "source": [
    "data[data.times_spend_coins<data.times_spend_coins.quantile(.95)].times_spend_coins.hist()"
   ]
  },
  {
   "cell_type": "code",
   "execution_count": null,
   "metadata": {},
   "outputs": [],
   "source": [
    "data['times_spend_coins_per_game'] = data['times_spend_coins']/data.games_played"
   ]
  },
  {
   "cell_type": "code",
   "execution_count": null,
   "metadata": {
    "scrolled": false
   },
   "outputs": [],
   "source": [
    "data[data.times_spend_coins_per_game<data.times_spend_coins_per_game.quantile(.99)].times_spend_coins_per_game.hist()"
   ]
  },
  {
   "cell_type": "code",
   "execution_count": null,
   "metadata": {},
   "outputs": [],
   "source": [
    "\n",
    "sns.jointplot(data=data, x='times_spend_coins', y='games_played', kind='reg', color='g')\n"
   ]
  },
  {
   "cell_type": "code",
   "execution_count": null,
   "metadata": {},
   "outputs": [],
   "source": []
  }
 ],
 "metadata": {
  "kernelspec": {
   "display_name": "Python 3",
   "language": "python",
   "name": "python3"
  },
  "language_info": {
   "codemirror_mode": {
    "name": "ipython",
    "version": 3
   },
   "file_extension": ".py",
   "mimetype": "text/x-python",
   "name": "python",
   "nbconvert_exporter": "python",
   "pygments_lexer": "ipython3",
   "version": "3.6.5"
  }
 },
 "nbformat": 4,
 "nbformat_minor": 2
}
